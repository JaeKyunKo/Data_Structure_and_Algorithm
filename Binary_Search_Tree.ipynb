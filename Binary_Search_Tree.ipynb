{
  "nbformat": 4,
  "nbformat_minor": 0,
  "metadata": {
    "colab": {
      "name": "Binary_Search_Tree.ipynb",
      "provenance": [],
      "authorship_tag": "ABX9TyNgfcW48FDaA9muLgFsf1sx",
      "include_colab_link": true
    },
    "kernelspec": {
      "name": "python3",
      "display_name": "Python 3"
    }
  },
  "cells": [
    {
      "cell_type": "markdown",
      "metadata": {
        "id": "view-in-github",
        "colab_type": "text"
      },
      "source": [
        "<a href=\"https://colab.research.google.com/github/JaeKyunKo/Data_Structure/blob/master/Binary_Search_Tree.ipynb\" target=\"_parent\"><img src=\"https://colab.research.google.com/assets/colab-badge.svg\" alt=\"Open In Colab\"/></a>"
      ]
    },
    {
      "cell_type": "code",
      "metadata": {
        "id": "uXdlgSsZT1tm",
        "colab_type": "code",
        "colab": {}
      },
      "source": [
        "class TreeNode :\n",
        "  value, nodeParent, nodeLHS, nodeRHS = None, None, None, None\n",
        "  def __init__(self, value, nodeParent) :\n",
        "    self.value = value\n",
        "    self.nodeParent = nodeParent\n",
        "  def getValue(self) :\n",
        "    return self.value\n",
        "  def getParent(self) :\n",
        "    return self.nodeParent\n",
        "  def getLHS(self) :\n",
        "    return self.nodeLHS\n",
        "  def getRHS(self) :\n",
        "    return self.nodeRHS\n",
        "  def setValue(self, value) :\n",
        "    self.value = value\n",
        "  def setParent(self, nodeParent) :\n",
        "    self.nodeParent = nodeParent\n",
        "  def setLHS(self, nodeLHS) :\n",
        "    self.nodeLHS = nodeLHS\n",
        "  def setRHS(self, nodeRHS) :\n",
        "    self.nodeRHS = nodeRHS"
      ],
      "execution_count": null,
      "outputs": []
    },
    {
      "cell_type": "code",
      "metadata": {
        "id": "dGxO-W6IUp7Y",
        "colab_type": "code",
        "colab": {}
      },
      "source": [
        "class BinarySearchTree :\n",
        "  root = None\n",
        "  def __init__(self) :\n",
        "    pass\n",
        "  def insert(self, value, node = None) :\n",
        "    if node is None :\n",
        "      node = self.root\n",
        "    if self.root is None :\n",
        "      self.root = TreeNode(value, None)\n",
        "      return\n",
        "    if value == node.getValue() :\n",
        "      return\n",
        "    elif value > node.getValue() :\n",
        "      if node.getRHS() is None :\n",
        "        node.setRHS(TreeNode(value, node))\n",
        "      else :\n",
        "        self.insert(value, node.getRHS())\n",
        "    else :\n",
        "      if node.getLHS() is None :\n",
        "        node.setLHS(TreeNode(value, node))\n",
        "      else :\n",
        "        self.insert(value, node.getLHS())\n",
        "    return\n",
        "  def search(self, value, node = None) :\n",
        "    if node is None :\n",
        "      node = self.root\n",
        "    if value == node.getValue() :\n",
        "      return True\n",
        "    elif value > node.getValue() :\n",
        "      if node.getRHS() is None :\n",
        "        return False\n",
        "      else :\n",
        "        return self.search(value, node.getRHS())\n",
        "    else :\n",
        "      if node.getLHS() is None :\n",
        "        return False\n",
        "      else :\n",
        "        return self.search(value, node.getLHS())\n",
        "\n",
        "  \n"
      ],
      "execution_count": null,
      "outputs": []
    },
    {
      "cell_type": "code",
      "metadata": {
        "id": "-EN14LxZVqUs",
        "colab_type": "code",
        "colab": {
          "base_uri": "https://localhost:8080/",
          "height": 35
        },
        "outputId": "905460ff-1dc0-410e-8b21-d184ea1a46ae"
      },
      "source": [
        "bst = BinarySearchTree()\n",
        "numList = [1,3,0,9,8,10,23,21]\n",
        "for i in range(len(numList)) :\n",
        "  bst.insert(numList[i])\n",
        "print(bst.search(13))"
      ],
      "execution_count": null,
      "outputs": [
        {
          "output_type": "stream",
          "text": [
            "False\n"
          ],
          "name": "stdout"
        }
      ]
    }
  ]
}