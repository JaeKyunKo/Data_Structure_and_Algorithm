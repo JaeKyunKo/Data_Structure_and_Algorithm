{
  "nbformat": 4,
  "nbformat_minor": 0,
  "metadata": {
    "colab": {
      "name": "Stack.ipynb",
      "provenance": [],
      "collapsed_sections": [],
      "authorship_tag": "ABX9TyMOvOjoWbmUZLWy9JQNkbLr",
      "include_colab_link": true
    },
    "kernelspec": {
      "name": "python3",
      "display_name": "Python 3"
    }
  },
  "cells": [
    {
      "cell_type": "markdown",
      "metadata": {
        "id": "view-in-github",
        "colab_type": "text"
      },
      "source": [
        "<a href=\"https://colab.research.google.com/github/JaeKyunKo/Data_Structure/blob/master/Stack.ipynb\" target=\"_parent\"><img src=\"https://colab.research.google.com/assets/colab-badge.svg\" alt=\"Open In Colab\"/></a>"
      ]
    },
    {
      "cell_type": "code",
      "metadata": {
        "id": "fX3uaNC-Az0t",
        "colab_type": "code",
        "colab": {}
      },
      "source": [
        "class Node :\n",
        "  value, nodeNext = None, None\n",
        "  blnHead, blnTail = False, False\n",
        "  def __init__(self, value = None, nodeNext = None, blnHead = False, blnTail = False) :\n",
        "    self.value = value\n",
        "    self.nodeNext = nodeNext\n",
        "    self.blnHead = blnHead\n",
        "    self.blnTail = blnTail\n",
        "  def getValue(self) :\n",
        "    return self.value\n",
        "  def getNext(self) :\n",
        "    return self.nodeNext\n",
        "  def setValue(self, vlaue) :\n",
        "    self.value = value\n",
        "  def setNext(self, nodeNext) :\n",
        "    self.nodeNext = nodeNext\n",
        "  def isHead(self) :\n",
        "    return self.blnHead\n",
        "  def isTail(self) :\n",
        "    return self.blnTail"
      ],
      "execution_count": 5,
      "outputs": []
    },
    {
      "cell_type": "code",
      "metadata": {
        "id": "g8domInHA7L1",
        "colab_type": "code",
        "colab": {}
      },
      "source": [
        "class SinglyLinkedList :\n",
        "  nodeHead, nodeTail = None, None\n",
        "  size = 0\n",
        "  def __init__(self) :\n",
        "    self.nodeTail = Node(blnTail = True)\n",
        "    self.nodeHead = Node(blnHead = True, nodeNext = self.nodeTail)\n",
        "  def getNode(self, idxRetrieve) :\n",
        "    nodeReturn = self.nodeHead\n",
        "    for i in range(idxRetrieve + 1) :\n",
        "      nodeReturn = nodeReturn.getNext()\n",
        "    return nodeReturn\n",
        "  def getSize(self) :\n",
        "    return self.size\n",
        "  def printStatus(self) :\n",
        "    nodeCurrent = self.nodeHead\n",
        "    while nodeCurrent.getNext().isTail() is False :\n",
        "      nodeCurrent = nodeCurrent.getNext()\n",
        "      print(nodeCurrent.getValue(), end = \" \")\n",
        "    print()\n",
        "  def insertAt(self, value, idxInsert) :\n",
        "    nodePrev = self.getNode(idxInsert - 1)\n",
        "    nodeNext = nodePrev.getNext()\n",
        "    nodeInsert = Node(value, nodeNext = nodeNext)\n",
        "    nodePrev.setNext(nodeInsert)\n",
        "    self.size += 1\n",
        "    return\n",
        "  def removeAt(self, idxRemove) :\n",
        "    nodePrev = self.getNode(idxRemove - 1) \n",
        "    nodeRemove = nodePrev.getNext()\n",
        "    nodeNext = nodeRemove.getNext()\n",
        "    nodePrev.setNext(nodeNext)\n",
        "    self.size -= 1\n",
        "    return nodeRemove.getValue()"
      ],
      "execution_count": 6,
      "outputs": []
    },
    {
      "cell_type": "code",
      "metadata": {
        "id": "QCVRE_X7BI6o",
        "colab_type": "code",
        "colab": {}
      },
      "source": [
        "class Stack(object) :\n",
        "  stack = None\n",
        "  def __init__(self) :\n",
        "    self.stack = SinglyLinkedList()\n",
        "  def push(self, value) :\n",
        "    self.stack.insertAt(value, 0)\n",
        "  def pop(self) :\n",
        "    return self.stack.removeAt(0)\n",
        "  def printStatus(self) :\n",
        "    self.stack.printStatus()"
      ],
      "execution_count": 7,
      "outputs": []
    }
  ]
}